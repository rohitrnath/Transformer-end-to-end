{
 "cells": [
  {
   "cell_type": "code",
   "execution_count": 1,
   "metadata": {},
   "outputs": [
    {
     "name": "stderr",
     "output_type": "stream",
     "text": [
      "/home/sourabh.p/Documents/ipython/lib/python3.6/site-packages/tqdm/auto.py:22: TqdmWarning: IProgress not found. Please update jupyter and ipywidgets. See https://ipywidgets.readthedocs.io/en/stable/user_install.html\n",
      "  from .autonotebook import tqdm as notebook_tqdm\n"
     ]
    },
    {
     "name": "stdout",
     "output_type": "stream",
     "text": [
      "{'batch_size': 6, 'num_epochs': 30, 'lr': 0.0001, 'seq_len': 350, 'd_model': 512, 'lang_src': 'en', 'lang_tgt': 'it', 'model_folder': 'weights', 'model_basename': 'tmodel_', 'preload': None, 'tokenizer_file': 'tokenizer_{0}.json', 'experiment_name': 'runs/tmodel'}\n",
      "Using device: cuda\n"
     ]
    },
    {
     "name": "stderr",
     "output_type": "stream",
     "text": [
      "Reusing dataset opus_books (/home/sourabh.p/.cache/huggingface/datasets/opus_books/en-it/1.0.0/e8f950a4f32dc39b7f9088908216cd2d7e21ac35f893d04d39eb594746af2daf)\n"
     ]
    },
    {
     "name": "stdout",
     "output_type": "stream",
     "text": [
      "Max length of source sentence: 309\n",
      "max length of target sentence: 274\n"
     ]
    },
    {
     "name": "stderr",
     "output_type": "stream",
     "text": [
      "Processing Epoch 00: 100%|██████████| 4850/4850 [17:56<00:00,  4.51it/s, loss=5.680]\n"
     ]
    },
    {
     "name": "stdout",
     "output_type": "stream",
     "text": [
      "--------------------------------------------------------------------------------\n",
      "    SOURCE: He drew near, and whispered hoarsely:\n",
      "    TARGET: Mi s’avvicinò e mi bisbigliò raucamente:\n",
      " PREDICTED: Il signor Rochester , e si .\n",
      "--------------------------------------------------------------------------------\n",
      "    SOURCE: 'The mistress has sent me!\n",
      "    TARGET: — Ha mandato la signora.\n",
      " PREDICTED: — Sì , signore .\n",
      "--------------------------------------------------------------------------------\n"
     ]
    },
    {
     "name": "stderr",
     "output_type": "stream",
     "text": [
      "/home/sourabh.p/Documents/ipython/lib/python3.6/site-packages/torchmetrics/text/bleu.py:75: UserWarning: Input order of targets and preds were changed to predictions firsts and targets second in v0.7. Warning will be removed in v0.8.\n",
      "  \"Input order of targets and preds were changed to predictions firsts and targets second in v0.7.\"\n",
      "Processing Epoch 01: 100%|██████████| 4850/4850 [17:58<00:00,  4.50it/s, loss=5.055]\n"
     ]
    },
    {
     "name": "stdout",
     "output_type": "stream",
     "text": [
      "--------------------------------------------------------------------------------\n",
      "    SOURCE: We had one dangerous place to pass, and our guide told us if there were more wolves in the country we should find them there; and this was a small plain, surrounded with woods on every side, and a long, narrow defile, or lane, which we were to pass to get through the wood, and then we should come to the village where we were to lodge.\n",
      "    TARGET: Era questo luogo una piccola pianura circondata di boschi da tutti i lati, che metteva entro una angusta gola, donde dovevamo passare per uscire della foresta, che ci avrebbe di poi condotti al villaggio ove dovevamo pernottare. Prima di arrivare al tristo sito indicatoci dovevasi entrare in un bosco, ove ci trovammo mezz’ora prima di sera; poco dopo il tramonto eravamo nella pianura.\n",
      " PREDICTED: , , e , e , e , e , e , , e , , e , e , , e , e , e , , e , e , , e , e , , e , , e , e di .\n",
      "--------------------------------------------------------------------------------\n",
      "    SOURCE: He said he had never felt so surprised in all his life, as when he first felt himself going, without being able to conjecture in the slightest what had happened.\n",
      "    TARGET: Disse che non aveva mai avuto una simile sorpresa in vita sua, sentendosi andar giù senza saper minimamente ciò che gli accadesse.\n",
      " PREDICTED: Egli non poteva non essere mai mai mai mai , perché , perché , perché , perché , perché , perché , perché , perché , perché era stato stato stato .\n",
      "--------------------------------------------------------------------------------\n"
     ]
    },
    {
     "name": "stderr",
     "output_type": "stream",
     "text": [
      "Processing Epoch 02: 100%|██████████| 4850/4850 [17:54<00:00,  4.51it/s, loss=4.163]\n"
     ]
    },
    {
     "name": "stdout",
     "output_type": "stream",
     "text": [
      "--------------------------------------------------------------------------------\n",
      "    SOURCE: Who would think that the Evil One had already found a servant and agent in her?\n",
      "    TARGET: Chi crederebbe che lo spirito del male ha trovato in lei una schiava e un agente?\n",
      " PREDICTED: Chi era stato in una notte , che era andato in una volta ?\n",
      "--------------------------------------------------------------------------------\n",
      "    SOURCE: 'Yes. Do you know we hope he will marry Kitty?'\n",
      "    TARGET: — Sì, forse lo sai, noi speriamo che sposi Kitty.\n",
      " PREDICTED: — Sì , è vero , che cosa mai ?\n",
      "--------------------------------------------------------------------------------\n"
     ]
    },
    {
     "name": "stderr",
     "output_type": "stream",
     "text": [
      "Processing Epoch 03: 100%|██████████| 4850/4850 [17:53<00:00,  4.52it/s, loss=3.802]\n"
     ]
    },
    {
     "name": "stdout",
     "output_type": "stream",
     "text": [
      "--------------------------------------------------------------------------------\n",
      "    SOURCE: Instead of wishing to shun, I longed only to dare--to divine it; and I thought Miss Ingram happy, because one day she might look into the abyss at her leisure, explore its secrets and analyse their nature.\n",
      "    TARGET: La signorina Ingram mi pareva che un giorno dovrebbe esser felice di esplorare l'abisso, di vederne i segreti ed analizzarne la singolare natura.\n",
      " PREDICTED: \" di aver ragione , ma io mi di , e mi che la signorina Ingram , che era stata piena di gioia e di .\n",
      "--------------------------------------------------------------------------------\n",
      "    SOURCE: 'Yes, but all that depends on him.\n",
      "    TARGET: — Sì, ma tutto dipende da lui.\n",
      " PREDICTED: — Sì , ma tutto è possibile .\n",
      "--------------------------------------------------------------------------------\n"
     ]
    },
    {
     "name": "stderr",
     "output_type": "stream",
     "text": [
      "Processing Epoch 04: 100%|██████████| 4850/4850 [17:55<00:00,  4.51it/s, loss=3.418]\n"
     ]
    },
    {
     "name": "stdout",
     "output_type": "stream",
     "text": [
      "--------------------------------------------------------------------------------\n",
      "    SOURCE: At a distance of forty paces along the road on which he was walking he saw a coach with four horses abreast and luggage on top approaching him.\n",
      "    TARGET: Viene qualcuno» pensò, sentendo rumore di sonagli, e sollevò la testa. A quaranta passi da lui, venendogli incontro sulla strada maestra sulla quale egli camminava, avanzava un tiro a quattro con le valigie sull’imperiale.\n",
      " PREDICTED: In quel momento si fermò sulla strada , che era entrato con la carrozza e si fermò con la banchina e si accostò a lui .\n",
      "--------------------------------------------------------------------------------\n",
      "    SOURCE: I knew him from a boy, you see: and for my part, I have often wished that Miss Eyre had been sunk in the sea before she came to Thornfield Hall.\"\n",
      "    TARGET: L'ho conosciuto da piccolo e in quanto a me ho spesso desiderato che la signorina Eyre si fosse rotto il collo prima di giungere alla villa.\n",
      " PREDICTED: \" Non vi conosco un ragazzo , e vi ho fatto la mia vita , e vi ho fatto che la sera prima di Thornfield .\n",
      "--------------------------------------------------------------------------------\n"
     ]
    },
    {
     "name": "stderr",
     "output_type": "stream",
     "text": [
      "Processing Epoch 05: 100%|██████████| 4850/4850 [17:52<00:00,  4.52it/s, loss=3.760]\n"
     ]
    },
    {
     "name": "stdout",
     "output_type": "stream",
     "text": [
      "--------------------------------------------------------------------------------\n",
      "    SOURCE: 'No, I have done with that; it is time for me to die.'\n",
      "    TARGET: — No, per me è finita. È tempo di morire.\n",
      " PREDICTED: — No , ho fatto con me , è vero che mi pare che mi sia indispensabile .\n",
      "--------------------------------------------------------------------------------\n",
      "    SOURCE: Now I wanted nothing but a boat to furnish myself with many things which I foresaw would be very necessary to me.\n",
      "    TARGET: Or non mi mancava altro che una barca, per caricarvi entro le molte cose ch’io prevedeva mi sarebbero bisognate.\n",
      " PREDICTED: Pure non credo che sia un viaggio di cui mi riguarda , io mi a vivere con tanta fatica .\n",
      "--------------------------------------------------------------------------------\n"
     ]
    },
    {
     "name": "stderr",
     "output_type": "stream",
     "text": [
      "Processing Epoch 06: 100%|██████████| 4850/4850 [17:52<00:00,  4.52it/s, loss=2.155]\n"
     ]
    },
    {
     "name": "stdout",
     "output_type": "stream",
     "text": [
      "--------------------------------------------------------------------------------\n",
      "    SOURCE: CHAPTER XI\n",
      "    TARGET: XI\n",
      " PREDICTED: XI\n",
      "--------------------------------------------------------------------------------\n",
      "    SOURCE: It was Annushka's husband.\n",
      "    TARGET: Era il marito di Annuška.\n",
      " PREDICTED: Era Annuška .\n",
      "--------------------------------------------------------------------------------\n"
     ]
    },
    {
     "name": "stderr",
     "output_type": "stream",
     "text": [
      "Processing Epoch 07: 100%|██████████| 4850/4850 [17:51<00:00,  4.53it/s, loss=3.481]\n"
     ]
    },
    {
     "name": "stdout",
     "output_type": "stream",
     "text": [
      "--------------------------------------------------------------------------------\n",
      "    SOURCE: THE SPORTSMAN'S SAYING, that if you don't miss your first beast or first bird your day will be successful was justified.\n",
      "    TARGET: Il presagio venatorio: se non ti lasci scappare la prima bestia o il primo uccello, la caccia sarà buona, si mostrò veritiero.\n",
      " PREDICTED: Il giorno , se non ti sei , ti un po ’ di tabacco o un di ruote o di cui si deve essere ingannato in primo luogo .\n",
      "--------------------------------------------------------------------------------\n",
      "    SOURCE: One day, walking up the same hill, but the weather being hazy at sea, so that we could not see the continent, I called to him, and said, “Friday, do not you wish yourself in your own country, your own nation?” “Yes,” he said, “I be much O glad to be at my own nation.”\n",
      "    TARGET: Camminavamo un giorno su lo stesso monte, ma essendo coperta di nebbia la parte che guardava il mare, non potevamo vedere il continente. — «Venerdì, gli dissi, non v’augurate mai di rivedere il vostro paese, la vostra nazione? — Sì; me augurar tornarli a vedere! — Che cosa poi vorreste far là?\n",
      " PREDICTED: Una mattina , oltre al mare , ma non essendo in mare di mare , nè vedere che non fossimo andati a bordo del mare , e gli dissi : « Ah ! voi ! voi ! voi ! voi ! voi ! voi ! voi voi non volete vivere !»\n",
      "--------------------------------------------------------------------------------\n"
     ]
    },
    {
     "name": "stderr",
     "output_type": "stream",
     "text": [
      "Processing Epoch 08: 100%|██████████| 4850/4850 [17:51<00:00,  4.53it/s, loss=2.328]\n"
     ]
    },
    {
     "name": "stdout",
     "output_type": "stream",
     "text": [
      "--------------------------------------------------------------------------------\n",
      "    SOURCE: If you ask me – the betrothal to-day and the wedding to-morrow!'\n",
      "    TARGET: Se domandate a me, per me, oggi la benedizione e domani le nozze.\n",
      " PREDICTED: Se volete dire la benedizione e il matrimonio .\n",
      "--------------------------------------------------------------------------------\n",
      "    SOURCE: 'I must think it over and seek for guidance.\n",
      "    TARGET: — Devo riflettere e informarmi.\n",
      " PREDICTED: “ Bisogna risolvere e a star qui , a Lowood .\n",
      "--------------------------------------------------------------------------------\n"
     ]
    },
    {
     "name": "stderr",
     "output_type": "stream",
     "text": [
      "Processing Epoch 09: 100%|██████████| 4850/4850 [17:51<00:00,  4.53it/s, loss=2.358]\n"
     ]
    },
    {
     "name": "stdout",
     "output_type": "stream",
     "text": [
      "--------------------------------------------------------------------------------\n",
      "    SOURCE: 'It can't be helped, I have an appointment there in connection with this same peacemaking of mine.'\n",
      "    TARGET: — Che fare? Ho un appuntamento là, sempre per questa mia opera di pace.\n",
      " PREDICTED: — Non si può chiamare , ho mica un leggero in quei nuovi doveri , con la mia solitudine .\n",
      "--------------------------------------------------------------------------------\n",
      "    SOURCE: CHAPTER IX\n",
      "    TARGET: IX\n",
      " PREDICTED: IX\n",
      "--------------------------------------------------------------------------------\n"
     ]
    },
    {
     "name": "stderr",
     "output_type": "stream",
     "text": [
      "Processing Epoch 10: 100%|██████████| 4850/4850 [17:49<00:00,  4.54it/s, loss=2.936]\n"
     ]
    },
    {
     "name": "stdout",
     "output_type": "stream",
     "text": [
      "--------------------------------------------------------------------------------\n",
      "    SOURCE: 'Perhaps not,' Alice cautiously replied: 'but I know I have to beat time when I learn music.'\n",
      "    TARGET: — Forse no, — rispose prudentemente Alice; — ma so che debbo battere il tempo quando studio la musica.\n",
      " PREDICTED: — Forse no , — rispose Alice , — ma io so che non ho tempo a la musica .\n",
      "--------------------------------------------------------------------------------\n",
      "    SOURCE: 'Then you will come?' cried Dolly.\n",
      "    TARGET: — Verrete? — gridò Dolly.\n",
      " PREDICTED: — Allora andate ? — gridò Dolly .\n",
      "--------------------------------------------------------------------------------\n"
     ]
    },
    {
     "name": "stderr",
     "output_type": "stream",
     "text": [
      "Processing Epoch 11: 100%|██████████| 4850/4850 [17:48<00:00,  4.54it/s, loss=0.705]\n"
     ]
    },
    {
     "name": "stdout",
     "output_type": "stream",
     "text": [
      "--------------------------------------------------------------------------------\n",
      "    SOURCE: I could only sit and look at him.\n",
      "    TARGET: Non potei far altro che rimanermene seduto a guardar l’amico.\n",
      " PREDICTED: Potevo star seduto , e non potei guardarlo .\n",
      "--------------------------------------------------------------------------------\n",
      "    SOURCE: I'll thrash you!' shouted he.\n",
      "    TARGET: Ti picchio! — gridò.\n",
      " PREDICTED: Ti , io — gridò .\n",
      "--------------------------------------------------------------------------------\n"
     ]
    },
    {
     "name": "stderr",
     "output_type": "stream",
     "text": [
      "Processing Epoch 12: 100%|██████████| 4850/4850 [17:49<00:00,  4.53it/s, loss=2.059]\n"
     ]
    },
    {
     "name": "stdout",
     "output_type": "stream",
     "text": [
      "--------------------------------------------------------------------------------\n",
      "    SOURCE: She went on growing, and growing, and very soon had to kneel down on the floor: in another minute there was not even room for this, and she tried the effect of lying down with one elbow against the door, and the other arm curled round her head.\n",
      "    TARGET: Continuò a crescere, a crescere, e presto dovette inginocchiarsi, perchè non poteva più star in piedi; e dopo un altro minuto non c'era più spazio neanche per stare inginocchiata. Dovette sdraiarsi con un gomito contro l'uscio, e con un braccio intorno al capo.\n",
      " PREDICTED: Era uscita da lei , e , dopo essersi spogliato di corsa da una poltrona , sporse fuori un minuto ; poi non perché ella stessa non cercava di portar fuori il braccio , e aprì il braccio , con tutte le mani , si reggeva di sopra l ’ altra .\n",
      "--------------------------------------------------------------------------------\n",
      "    SOURCE: I cannot give you up to perdition as a vessel of wrath: repent--resolve, while there is yet time.\n",
      "    TARGET: Non voglio abbandonarvi alla perdizione: pentitevi ora che siete a tempo.\n",
      " PREDICTED: Non posso dare un aspetto che la barca con voi , ma vi la vostra risoluzione .\n",
      "--------------------------------------------------------------------------------\n"
     ]
    },
    {
     "name": "stderr",
     "output_type": "stream",
     "text": [
      "Processing Epoch 13: 100%|██████████| 4850/4850 [17:50<00:00,  4.53it/s, loss=1.345]\n"
     ]
    },
    {
     "name": "stdout",
     "output_type": "stream",
     "text": [
      "--------------------------------------------------------------------------------\n",
      "    SOURCE: 'Why are you so late?' asked the old Prince with a smile, holding out his hand over his shoulder. 'How is Kitty?' he added, smoothing the table-napkin, which he had tucked in behind a button of his waistcoat.\n",
      "    TARGET: — Ah, come, sei in ritardo? — disse, sorridendo, il principe, dandogli la mano al di sopra della spalla. — Come va Kitty? — aggiunse, accomodando il tovagliolo che s’era messo dietro il bottone del panciotto.\n",
      " PREDICTED: — E perché sei arrivato ? — disse il vecchio principe , con un sorriso le mani , il braccio . — Come è ? — aggiunse , , in un cameriere che gli aveva .\n",
      "--------------------------------------------------------------------------------\n",
      "    SOURCE: 'All together!' said Anna laughing and running to meet them, and putting her arms round them she tumbled the whole heap of children – struggling and shrieking joyfully – on to the floor.\n",
      "    TARGET: — Tutti insieme — disse Anna e, ridendo, corse loro incontro e li abbracciò facendo cadere tutto quel mucchio di bambini brulicanti che mandavano strida di entusiasmo.\n",
      " PREDICTED: — Va bene — disse Anna , sedendosi e , fattosi cambiar delle braccia , li condusse in alto , con tutta intenta a un allegro biondo e animato .\n",
      "--------------------------------------------------------------------------------\n"
     ]
    },
    {
     "name": "stderr",
     "output_type": "stream",
     "text": [
      "Processing Epoch 14: 100%|██████████| 4850/4850 [17:48<00:00,  4.54it/s, loss=1.238]\n"
     ]
    },
    {
     "name": "stdout",
     "output_type": "stream",
     "text": [
      "--------------------------------------------------------------------------------\n",
      "    SOURCE: Although Karenin had more than once told Serezha that every Christian ought to be well acquainted with Bible history, he often in Old Testament history had to consult the book, and Serezha noticed this.\n",
      "    TARGET: Sebbene Aleksej Aleksandrovic avesse detto più di una volta a Serëza che ogni buon cristiano deve conoscere con sicurezza la storia sacra, egli stesso controllava spesso l’Antico Testamento, e Serëza l’aveva notato.\n",
      " PREDICTED: Sebbene Aleksej Aleksandrovic avesse detto ancora che Betsy avrebbe detto che ogni scuola , la storia della contessa Lidija Ivanovna , aveva fiducia in lui , contro il libro , e questo dilemma :\n",
      "--------------------------------------------------------------------------------\n",
      "    SOURCE: I was busy one morning upon something of this kind, when I called to Friday, and bid him to go to the sea-shore and see if he could find a turtle or a tortoise, a thing which we generally got once a week, for the sake of the eggs as well as the flesh.\n",
      "    TARGET: M’affaccendava una mattina ad una di tali cose, quando, chiamato a me Venerdì, gli dissi d’andare alla spiaggia per vedere se gli riuscisse trovare una testuggine o tartaruga, cibo che non ne mancava mai, una volta almeno per settimana, e del quale eravamo ghiottissimi, sia per le uova, sia per la carne stessa.\n",
      " PREDICTED: una mattina in questa specie di biasimo d ’ ogni modo , quando Venerdì gli dissi : — « Me andare a visitare la spiaggia , e se è stato così , una sera o banco , avremo fatta una catena di pane , di simile a quel giorno , di simile !\n",
      "--------------------------------------------------------------------------------\n"
     ]
    },
    {
     "name": "stderr",
     "output_type": "stream",
     "text": [
      "Processing Epoch 15: 100%|██████████| 4850/4850 [17:47<00:00,  4.54it/s, loss=1.381]\n"
     ]
    },
    {
     "name": "stdout",
     "output_type": "stream",
     "text": [
      "--------------------------------------------------------------------------------\n",
      "    SOURCE: But enough – enough about it!' and he got up.\n",
      "    TARGET: E ora basta, basta, non ne parliamo più! — disse, alzandosi.\n",
      " PREDICTED: Ma è abbastanza bene , e lui s ’ alzò .\n",
      "--------------------------------------------------------------------------------\n",
      "    SOURCE: Behind them, you caught glimpses of the other boats, and bits of the surrounding scenery; but everything and everybody else in the lock looked so utterly insignificant and paltry compared with our feet, that all the other people felt quite ashamed of themselves, and refused to subscribe to the picture.\n",
      "    TARGET: Dietro si afferrava qualche visione delle altre barche e di qualche tratto del panorama in giro; ma tutto l’altro e tutti gli altri nella chiusa apparivano così assolutamente insignificanti e miseri in confronto dei nostri piedi, che ciascuno dei presenti si sentì vergognoso di sè e si rifiutò di sottoscrivere per una copia della fotografia.\n",
      " PREDICTED: Dietro queste ci demmo ottimamente che avevano ben fatto delle due ragazze , ma il che tutto il sole fosse bello , e così pure si così che si tutto il resto della gente che gli si sentisse insistere , per dire che il quadro .\n",
      "--------------------------------------------------------------------------------\n"
     ]
    },
    {
     "name": "stderr",
     "output_type": "stream",
     "text": [
      "Processing Epoch 16: 100%|██████████| 4850/4850 [17:44<00:00,  4.56it/s, loss=1.136]\n"
     ]
    },
    {
     "name": "stdout",
     "output_type": "stream",
     "text": [
      "--------------------------------------------------------------------------------\n",
      "    SOURCE: AS LEVIN, IN THE HIGHEST SPIRITS, was nearing the house he heard the sound of a tinkling bell approaching the main entrance.\n",
      "    TARGET: Mentre nella migliore disposizione d’animo si avvicinava a casa, Levin sentì un tinnir di sonagli dalla parte principale dell’ingresso della casa.\n",
      " PREDICTED: Levin , che era la principale , si era sollevata quando il grido si calmò a un tratto il rumore della camera .\n",
      "--------------------------------------------------------------------------------\n",
      "    SOURCE: You have not counted them but Ryabinin has!\n",
      "    TARGET: Ed ecco, tu non hai contato, ma Rjabinin ha contato.\n",
      " PREDICTED: Hai fatto male , ma a Rjabinin .\n",
      "--------------------------------------------------------------------------------\n"
     ]
    },
    {
     "name": "stderr",
     "output_type": "stream",
     "text": [
      "Processing Epoch 17: 100%|██████████| 4850/4850 [17:48<00:00,  4.54it/s, loss=1.312]\n"
     ]
    },
    {
     "name": "stdout",
     "output_type": "stream",
     "text": [
      "--------------------------------------------------------------------------------\n",
      "    SOURCE: Even the death she chose was mean and low.'\n",
      "    TARGET: Perfino la morte ha scelto vile, bassa.\n",
      " PREDICTED: Anche la morte le diceva di portarvi una notizia superfluo .\n",
      "--------------------------------------------------------------------------------\n",
      "    SOURCE: 'What joy, Alexis!' she said, turning to Vronsky, who had dismounted and was walking toward them.\n",
      "    TARGET: — Ecco, questa è una gioia, Aleksej! — ella disse, volgendosi a Vronskij che era sceso da cavallo e si avvicinava a loro.\n",
      " PREDICTED: — Che gioia ! — esclamò Vronskij , volgendosi a guardare Vronskij che era uscita e , insieme , portava il passo per la corsa .\n",
      "--------------------------------------------------------------------------------\n"
     ]
    },
    {
     "name": "stderr",
     "output_type": "stream",
     "text": [
      "Processing Epoch 18: 100%|██████████| 4850/4850 [17:49<00:00,  4.54it/s, loss=0.849]\n"
     ]
    },
    {
     "name": "stdout",
     "output_type": "stream",
     "text": [
      "--------------------------------------------------------------------------------\n",
      "    SOURCE: 'Do you know, Levin, I will gallop home on this Don side-horse!\n",
      "    TARGET: — Sapete cosa, Levin? Faccio una galoppata fino a casa su questo cavallo del Don del bilancino.\n",
      " PREDICTED: — Sai , Levin , su di un cavallo !\n",
      "--------------------------------------------------------------------------------\n",
      "    SOURCE: But if you no longer love me, it would be better and more honourable to say so!'\n",
      "    TARGET: E se tu non mi ami più è meglio ed è più onesto dirlo.\n",
      " PREDICTED: Ma se tu non ami più , sarebbe pure più penoso per me un ’ amica migliore e più ragionevole .\n",
      "--------------------------------------------------------------------------------\n"
     ]
    },
    {
     "name": "stderr",
     "output_type": "stream",
     "text": [
      "Processing Epoch 19: 100%|██████████| 4850/4850 [17:48<00:00,  4.54it/s, loss=1.235]\n"
     ]
    },
    {
     "name": "stdout",
     "output_type": "stream",
     "text": [
      "--------------------------------------------------------------------------------\n",
      "    SOURCE: He was impelled to speak in order not to remain silent, but did not know what to say, especially as his brother made no reply but only gazed fixedly at him, evidently trying to fathom the meaning of every word.\n",
      "    TARGET: Bisognava parlare per non tacere, ma egli non sapeva che cosa dire, tanto più che il fratello non rispondeva e guardava soltanto, senza abbassare lo sguardo, penetrando, evidentemente, il senso di ogni parola.\n",
      " PREDICTED: Stava per mezzo a questo discorso , per non essere voluto dimenticare , ma non seppe che il fratello , e non appena finito il fratello , non poté oltre , evidentemente , si nella osservazione , che lo solo al senso colpevole .\n",
      "--------------------------------------------------------------------------------\n",
      "    SOURCE: While I was making this march, my former thoughts returning, I began to abate my resolution: I do not mean that I entertained any fear of their number, for as they were naked, unarmed wretches, it is certain I was superior to them—nay, though I had been alone.\n",
      "    TARGET: Ma lungo il cammino, ridestatisi nella mia mente gli antichi pensieri, cominciò ad affievolirsi in me la presa risoluzione. Nè credeste già che mi sgomentassi del numero; essendo ignudi e disarmati quei miserabili, certamente il vantaggio contr’essi era dalla parte mia, e sarebbe stato quando anche mi fossi trovato solo.\n",
      " PREDICTED: Mentre il mio tempo prima , i miei pensieri si detti mi diedi a pensare ai miei bisogni : non mi sentivo sicura da temere come da una forza di forza , perchè , come potete , se la natura è stata calma e maggiore , non in loro , come ho avuto paura , che que ’ selvaggi , o piuttosto in loro .\n",
      "--------------------------------------------------------------------------------\n"
     ]
    },
    {
     "name": "stderr",
     "output_type": "stream",
     "text": [
      "Processing Epoch 20: 100%|██████████| 4850/4850 [17:45<00:00,  4.55it/s, loss=1.051]\n"
     ]
    },
    {
     "name": "stdout",
     "output_type": "stream",
     "text": [
      "--------------------------------------------------------------------------------\n",
      "    SOURCE: Karenin was speaking so rapidly that he blundered and could not pronounce the word, and at last said suffled.\n",
      "    TARGET: Aleksej Aleksandrovic parlava così in fretta che s’era impappinato e non riusciva in alcun modo a pronunciare la parola “sofferto”.\n",
      " PREDICTED: Aleksej Aleksandrovic si voltò a parlare così in fretta e , che non poteva rispondere e prese la parola di se ne ricordava il proprio nome .\n",
      "--------------------------------------------------------------------------------\n",
      "    SOURCE: Come, I'll show her to you...\n",
      "    TARGET: Andiamo, te la farò vedere.\n",
      " PREDICTED: Su , allora , passerò da casa .\n",
      "--------------------------------------------------------------------------------\n"
     ]
    },
    {
     "name": "stderr",
     "output_type": "stream",
     "text": [
      "Processing Epoch 21: 100%|██████████| 4850/4850 [17:47<00:00,  4.54it/s, loss=0.915]\n"
     ]
    },
    {
     "name": "stdout",
     "output_type": "stream",
     "text": [
      "--------------------------------------------------------------------------------\n",
      "    SOURCE: Do you know what we are talking about?' said Levin, peering into his interlocutor's face. 'You think it possible?'\n",
      "    TARGET: Sai bene di che parliamo? — ripeté Levin, ficcando gli occhi nel suo interlocutore. — Credi che sia possibile?\n",
      " PREDICTED: Sai , cosa mai dice ? — disse Levin , eccitato dal viso di Levin , nel suo viso di lui . — Voi puoi pensare ?\n",
      "--------------------------------------------------------------------------------\n",
      "    SOURCE: It was three storeys high, of proportions not vast, though considerable: a gentleman's manor-house, not a nobleman's seat: battlements round the top gave it a picturesque look.\n",
      "    TARGET: Pareva piuttosto l'abitazione di un possidente di campagna, che la villa di un signore, però nella sua irregolarità aveva qualcosa di pittoresco.\n",
      " PREDICTED: Erano due : non sapeva troppo lasciare indrieto nulla ; signori , ma una casa assai corta e una casa . Non era un momento ; si sedè davanti neppure uno sguardo di fantasia e lo indicò possibilità .\n",
      "--------------------------------------------------------------------------------\n"
     ]
    },
    {
     "name": "stderr",
     "output_type": "stream",
     "text": [
      "Processing Epoch 22: 100%|██████████| 4850/4850 [17:46<00:00,  4.55it/s, loss=0.712]\n"
     ]
    },
    {
     "name": "stdout",
     "output_type": "stream",
     "text": [
      "--------------------------------------------------------------------------------\n",
      "    SOURCE: 'For heaven's sake forgive me!...\n",
      "    TARGET: Ricevetemi così come siete.\n",
      " PREDICTED: — Per amor di Dio , scusami .\n",
      "--------------------------------------------------------------------------------\n",
      "    SOURCE: He took his eldest son to visit the second family, and told Oblonsky that he considered it developed his son and was good for him.\n",
      "    TARGET: E portava il primogenito nella seconda famiglia e raccontava a Stepan Arkad’ic che riteneva ciò utile e adatto a sviluppare il figlio.\n",
      " PREDICTED: Il fratello del suo patrimonio , all ’ altro del suo patrimonio , disse che Stepan Arkad ’ ic , e che in questo momento aveva un senso di disagio .\n",
      "--------------------------------------------------------------------------------\n"
     ]
    },
    {
     "name": "stderr",
     "output_type": "stream",
     "text": [
      "Processing Epoch 23: 100%|██████████| 4850/4850 [17:50<00:00,  4.53it/s, loss=0.568]\n"
     ]
    },
    {
     "name": "stdout",
     "output_type": "stream",
     "text": [
      "--------------------------------------------------------------------------------\n",
      "    SOURCE: He has gone to the farm.\n",
      "    TARGET: È andato alla fattoria.\n",
      " PREDICTED: È andato in amministrazione , se ne sono andato i dall ’ azienda .\n",
      "--------------------------------------------------------------------------------\n",
      "    SOURCE: \"This is acting on first impulses; you must take days to consider such a matter, ere your word can be regarded as valid.\"\n",
      "    TARGET: — Agite di primo impulso; bisogna che riflettiate per qualche giorno avanti che le vostre parole abbiano un valore.\n",
      " PREDICTED: — Non potete trovare la prima volta ; vi condurrò in vita per una parola , come potete .\n",
      "--------------------------------------------------------------------------------\n"
     ]
    },
    {
     "name": "stderr",
     "output_type": "stream",
     "text": [
      "Processing Epoch 24: 100%|██████████| 4850/4850 [17:48<00:00,  4.54it/s, loss=0.583]\n"
     ]
    },
    {
     "name": "stdout",
     "output_type": "stream",
     "text": [
      "--------------------------------------------------------------------------------\n",
      "    SOURCE: Rome and Sparta stood for many ages armed and free.\n",
      "    TARGET: Stettono Roma e Sparta molti secoli armate e libere.\n",
      " PREDICTED: e ' , molte interne et .\n",
      "--------------------------------------------------------------------------------\n",
      "    SOURCE: 'But the rest of Europe is not satisfied with that system.'\n",
      "    TARGET: — Ma l’Europa non è contenta di queste forme.\n",
      " PREDICTED: — Ma in Europa l ’ Europa non è contento del tutto .\n",
      "--------------------------------------------------------------------------------\n"
     ]
    },
    {
     "name": "stderr",
     "output_type": "stream",
     "text": [
      "Processing Epoch 25: 100%|██████████| 4850/4850 [17:49<00:00,  4.53it/s, loss=0.828]\n"
     ]
    },
    {
     "name": "stdout",
     "output_type": "stream",
     "text": [
      "--------------------------------------------------------------------------------\n",
      "    SOURCE: The third circle with which Anna was connected was Society in the accepted meaning of the word: the Society of balls, dinner-parties, brilliant toilettes, the Society which clung to the Court with one hand lest it should sink to the demi-monde, for this the members of that Society thought they despised, though its tastes were not only similar but identical with their own.\n",
      "    TARGET: Il terzo circolo, infine, che Anna frequentava, era proprio il cosiddetto gran mondo, il gran mondo dei balli, dei pranzi, delle toilettes, il mondo che si appoggiava alla corte per non scendere al livello di quel mondo equivoco che i membri di questo circolo credevano di poter disprezzare, pur avendo con esso gusti, più che simili, identici.\n",
      " PREDICTED: Il terzo circolo occupavano con Anna era stato scelto nell ’ appartamento il senso di mattina Karenin . I vecchi parlavano nella società si lascia in una provincia , fra l ’ avvenire , si sforzava di segnato da una botte di , che dovevano costituire acuto i nobili .\n",
      "--------------------------------------------------------------------------------\n",
      "    SOURCE: Yet the law and the circumstances of our position are such that thousands of complications appear which at present, while resting after all her sufferings and trials, she neither sees nor wishes to see.\n",
      "    TARGET: Ma la legge e tutte le circostanze della nostra situazione sono tali che si presentano migliaia di complicazioni, che lei adesso, distendendo l’animo dopo tante prove e sofferenze, non vede e non vuol vedere.\n",
      " PREDICTED: Ma le condizioni e la prima posizione sono state a domandare che il cibo si trascina da parte sua , e dopo le sofferenze sono state , non lo sa mai .\n",
      "--------------------------------------------------------------------------------\n"
     ]
    },
    {
     "name": "stderr",
     "output_type": "stream",
     "text": [
      "Processing Epoch 26: 100%|██████████| 4850/4850 [17:27<00:00,  4.63it/s, loss=0.726]\n"
     ]
    },
    {
     "name": "stdout",
     "output_type": "stream",
     "text": [
      "--------------------------------------------------------------------------------\n",
      "    SOURCE: Another stumbling-block was the peasant's invincible mistrust of the possibility of a landlord having any other aim than that of robbing them as much as possible.\n",
      "    TARGET: Un’altra difficoltà consisteva nell’invincibile sospetto dei contadini che lo scopo del proprietario non potesse consistere in altro che non fosse il desiderio di spogliarli il più possibile.\n",
      " PREDICTED: Un ’ altra confessione passò cento del contadino esigenze di una certa di una possibilità di l ’ altra di contadini che , come del resto , si poteva dall ’ altra parte di tutti loro possibile .\n",
      "--------------------------------------------------------------------------------\n",
      "    SOURCE: The longer he talked the more his eyes flashed, the more hastily he retorted on imaginary opponents, and the more agitated and offended became his face.\n",
      "    TARGET: Quanto più s’ingolfava nel discorso, tanto più gli si accendevano gli occhi, tanto più concitatamente ribatteva i suoi presunti avversari e tanto più agitata e offesa diveniva l’espressione del suo viso.\n",
      " PREDICTED: Fin dal momento in cui egli aveva prese le occhi ancora , egli si ancora , egli si era prese a parlare con maggior altezza e si era di nuovo sul viso .\n",
      "--------------------------------------------------------------------------------\n"
     ]
    },
    {
     "name": "stderr",
     "output_type": "stream",
     "text": [
      "Processing Epoch 27: 100%|██████████| 4850/4850 [17:25<00:00,  4.64it/s, loss=0.889]\n"
     ]
    },
    {
     "name": "stdout",
     "output_type": "stream",
     "text": [
      "--------------------------------------------------------------------------------\n",
      "    SOURCE: An unusual--to me--a perfectly new character I suspected was yours: I desired to search it deeper and know it better.\n",
      "    TARGET: \"Sospettavo in voi un carattere insolito e assolutamente nuovo per me, e volevo approfondirlo meglio per giungere a conoscerlo.\n",
      " PREDICTED: \" Un carattere di me , al mio spirito , che non la né della vostra famiglia ; meglio .\n",
      "--------------------------------------------------------------------------------\n",
      "    SOURCE: NONE BUT THOSE WHO KNEW KARENIN most intimately knew that this apparently cold and sober-minded man had one weakness, quite inconsistent with the general trend of his character.\n",
      "    TARGET: Nessuno, ad eccezione delle persone che vivevano proprio vicino ad Aleksej Aleksandrovic, sapeva che quest’uomo dall’aspetto impassibile, quest’uomo ragionatore avesse una debolezza contrastante con la linea fondamentale del suo carattere.\n",
      " PREDICTED: Ma , magari qui , — Aleksej Aleksandrovic , così grave sentimento e vedersi di grave , così grave per la debolezza del suo merito della malattia .\n",
      "--------------------------------------------------------------------------------\n"
     ]
    },
    {
     "name": "stderr",
     "output_type": "stream",
     "text": [
      "Processing Epoch 28:   0%|          | 4/4850 [00:00<18:58,  4.26it/s, loss=0.460]\n"
     ]
    },
    {
     "ename": "KeyboardInterrupt",
     "evalue": "",
     "output_type": "error",
     "traceback": [
      "\u001b[0;31m---------------------------------------------------------------------------\u001b[0m",
      "\u001b[0;31mKeyboardInterrupt\u001b[0m                         Traceback (most recent call last)",
      "\u001b[0;32m<ipython-input-1-99a2b15c698f>\u001b[0m in \u001b[0;36m<module>\u001b[0;34m\u001b[0m\n\u001b[1;32m      8\u001b[0m \u001b[0;32mfrom\u001b[0m \u001b[0mtrain\u001b[0m \u001b[0;32mimport\u001b[0m \u001b[0mtrain_model\u001b[0m\u001b[0;34m\u001b[0m\u001b[0;34m\u001b[0m\u001b[0m\n\u001b[1;32m      9\u001b[0m \u001b[0mprint\u001b[0m\u001b[0;34m(\u001b[0m\u001b[0mcfg\u001b[0m\u001b[0;34m)\u001b[0m\u001b[0;34m\u001b[0m\u001b[0;34m\u001b[0m\u001b[0m\n\u001b[0;32m---> 10\u001b[0;31m \u001b[0mtrain_model\u001b[0m\u001b[0;34m(\u001b[0m\u001b[0mcfg\u001b[0m\u001b[0;34m)\u001b[0m\u001b[0;34m\u001b[0m\u001b[0;34m\u001b[0m\u001b[0m\n\u001b[0m",
      "\u001b[0;32m~/Documents/Trans/train.py\u001b[0m in \u001b[0;36mtrain_model\u001b[0;34m(config)\u001b[0m\n\u001b[1;32m    227\u001b[0m \u001b[0;34m\u001b[0m\u001b[0m\n\u001b[1;32m    228\u001b[0m             \u001b[0;31m# Compare the output with the label\u001b[0m\u001b[0;34m\u001b[0m\u001b[0;34m\u001b[0m\u001b[0;34m\u001b[0m\u001b[0m\n\u001b[0;32m--> 229\u001b[0;31m             \u001b[0mlabel\u001b[0m \u001b[0;34m=\u001b[0m \u001b[0mbatch\u001b[0m\u001b[0;34m[\u001b[0m\u001b[0;34m'label'\u001b[0m\u001b[0;34m]\u001b[0m\u001b[0;34m.\u001b[0m\u001b[0mto\u001b[0m\u001b[0;34m(\u001b[0m\u001b[0mdevice\u001b[0m\u001b[0;34m)\u001b[0m \u001b[0;31m# (B, seq_len)\u001b[0m\u001b[0;34m\u001b[0m\u001b[0;34m\u001b[0m\u001b[0m\n\u001b[0m\u001b[1;32m    230\u001b[0m \u001b[0;34m\u001b[0m\u001b[0m\n\u001b[1;32m    231\u001b[0m             \u001b[0;31m# Compute the loss using a simple cross entropy\u001b[0m\u001b[0;34m\u001b[0m\u001b[0;34m\u001b[0m\u001b[0;34m\u001b[0m\u001b[0m\n",
      "\u001b[0;31mKeyboardInterrupt\u001b[0m: "
     ]
    },
    {
     "ename": "",
     "evalue": "",
     "output_type": "error",
     "traceback": [
      "\u001b[1;31mThe Kernel crashed while executing code in the the current cell or a previous cell. Please review the code in the cell(s) to identify a possible cause of the failure. Click <a href='https://aka.ms/vscodeJupyterKernelCrash'>here</a> for more info. View Jupyter <a href='command:jupyter.viewOutput'>log</a> for further details."
     ]
    }
   ],
   "source": [
    "from config import get_config\n",
    "\n",
    "cfg = get_config()\n",
    "cfg[\"batch_size\"] = 6\n",
    "cfg[\"preload\"] = None\n",
    "cfg[\"num_epochs\"] = 30\n",
    "\n",
    "from train import train_model\n",
    "print(cfg)\n",
    "train_model(cfg)"
   ]
  },
  {
   "cell_type": "code",
   "execution_count": null,
   "metadata": {},
   "outputs": [],
   "source": [
    "!pip3 install torchtext"
   ]
  },
  {
   "cell_type": "code",
   "execution_count": null,
   "metadata": {},
   "outputs": [],
   "source": [
    "!curl --proto '=https' --tlsv1.2 -sSf https://sh.rustup.rs | sh"
   ]
  },
  {
   "cell_type": "code",
   "execution_count": null,
   "metadata": {},
   "outputs": [],
   "source": [
    "!pip install datasets"
   ]
  },
  {
   "cell_type": "code",
   "execution_count": null,
   "metadata": {},
   "outputs": [],
   "source": [
    "!pip install torchmetrics"
   ]
  },
  {
   "cell_type": "code",
   "execution_count": null,
   "metadata": {},
   "outputs": [],
   "source": [
    "!pip install tensorboard"
   ]
  },
  {
   "cell_type": "code",
   "execution_count": null,
   "metadata": {},
   "outputs": [],
   "source": [
    "!pwd"
   ]
  },
  {
   "cell_type": "code",
   "execution_count": null,
   "metadata": {},
   "outputs": [],
   "source": []
  }
 ],
 "metadata": {
  "kernelspec": {
   "display_name": "Python 3",
   "language": "python",
   "name": "python3"
  },
  "language_info": {
   "codemirror_mode": {
    "name": "ipython",
    "version": 3
   },
   "file_extension": ".py",
   "mimetype": "text/x-python",
   "name": "python",
   "nbconvert_exporter": "python",
   "pygments_lexer": "ipython3",
   "version": "3.6.9"
  },
  "orig_nbformat": 4
 },
 "nbformat": 4,
 "nbformat_minor": 2
}
